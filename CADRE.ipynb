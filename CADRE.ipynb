{
  "nbformat": 4,
  "nbformat_minor": 0,
  "metadata": {
    "colab": {
      "provenance": [],
      "machine_shape": "hm",
      "gpuType": "A100"
    },
    "kernelspec": {
      "name": "python3",
      "display_name": "Python 3"
    },
    "language_info": {
      "name": "python"
    },
    "accelerator": "GPU"
  },
  "cells": [
    {
      "cell_type": "code",
      "execution_count": 1,
      "metadata": {
        "colab": {
          "base_uri": "https://localhost:8080/"
        },
        "id": "r2pz0RVQ0i4k",
        "outputId": "e8d10c12-72d7-4d48-f8fa-5cb5e5336799"
      },
      "outputs": [
        {
          "output_type": "stream",
          "name": "stdout",
          "text": [
            "Drive already mounted at /content/drive; to attempt to forcibly remount, call drive.mount(\"/content/drive\", force_remount=True).\n"
          ]
        }
      ],
      "source": [
        "from google.colab import drive\n",
        "drive.mount('/content/drive')"
      ]
    },
    {
      "cell_type": "code",
      "source": [
        "!sudo cp -r \"/content/drive/My Drive/UIUC/DLH/Project/data\" ."
      ],
      "metadata": {
        "id": "pVb787ys_x5V"
      },
      "execution_count": 1,
      "outputs": []
    },
    {
      "cell_type": "code",
      "source": [
        "import numpy as np\n",
        "import torch\n",
        "import torch.nn as nn\n",
        "import torch.nn.functional as F\n",
        "import math\n",
        "import matplotlib.pyplot as plt\n",
        "import argparse\n",
        "import os\n",
        "import pickle\n",
        "from utils import fill_mask, bool_ext, load_dataset, split_dataset\n",
        "from collabfilter import CF"
      ],
      "metadata": {
        "id": "i9wNvIcr0pt9"
      },
      "execution_count": 6,
      "outputs": []
    },
    {
      "cell_type": "code",
      "source": [
        "# If bool_ext is a custom function, define it or replace it with bool\n",
        "def bool_ext(val):\n",
        "    return val.lower() in (\"yes\", \"true\", \"t\", \"1\")\n",
        "\n",
        "# Manually define the arguments using argparse.Namespace\n",
        "args = argparse.Namespace(\n",
        "    is_train=True,\n",
        "    input_dir=\"data/input\",\n",
        "    output_dir=\"data/output\",\n",
        "    repository=\"gdsc\",\n",
        "    drug_id=-1,\n",
        "    use_cuda=True and torch.cuda.is_available(),  # Ensure GPU availability\n",
        "    use_relu=False,\n",
        "    init_gene_emb=True,\n",
        "    omic=\"exp\",\n",
        "    use_attention=True,\n",
        "    use_cntx_attn=True,\n",
        "    embedding_dim=200,\n",
        "    attention_size=128,\n",
        "    attention_head=8,\n",
        "    hidden_dim_enc=200,\n",
        "    use_hid_lyr=False,\n",
        "    max_iter=int(384000),\n",
        "    max_fscore=0.63,\n",
        "    dropout_rate=0.6,\n",
        "    learning_rate=0.3,\n",
        "    weight_decay=3e-4,\n",
        "    batch_size=8,\n",
        "    test_batch_size=8,\n",
        "    test_inc_size=1024,\n",
        "    model_label=\"cntx-attn-gdsc\"\n",
        ")\n",
        "\n",
        "# Now, args is ready to use just like it would be from argparse.parse_args()\n",
        "print(args)"
      ],
      "metadata": {
        "id": "bhjsUCSn0rcK",
        "colab": {
          "base_uri": "https://localhost:8080/"
        },
        "outputId": "1bd91444-bfa8-4d6c-dbbd-c9d0be729aee"
      },
      "execution_count": 7,
      "outputs": [
        {
          "output_type": "stream",
          "name": "stdout",
          "text": [
            "Namespace(is_train=True, input_dir='data/input', output_dir='data/output', repository='gdsc', drug_id=-1, use_cuda=True, use_relu=False, init_gene_emb=True, omic='exp', use_attention=True, use_cntx_attn=True, embedding_dim=200, attention_size=128, attention_head=8, hidden_dim_enc=200, use_hid_lyr=False, max_iter=384000, max_fscore=0.63, dropout_rate=0.6, learning_rate=0.3, weight_decay=0.0003, batch_size=8, test_batch_size=8, test_inc_size=1024, model_label='cntx-attn-gdsc')\n"
          ]
        }
      ]
    },
    {
      "cell_type": "code",
      "source": [
        "print(\"Loading drug dataset...\")\n",
        "dataset, ptw_ids = load_dataset(input_dir=args.input_dir, repository=args.repository, drug_id=args.drug_id)\n",
        "train_set, test_set = split_dataset(dataset, ratio=0.8)\n",
        "\n",
        "# replace tgt in train_set\n",
        "train_set['tgt'], train_set['msk'] = fill_mask(train_set['tgt'], train_set['msk'])\n"
      ],
      "metadata": {
        "colab": {
          "base_uri": "https://localhost:8080/"
        },
        "id": "EKa0B351AoO2",
        "outputId": "f4d7d2c6-cec2-4abf-df7a-ebef27f9c014"
      },
      "execution_count": 8,
      "outputs": [
        {
          "output_type": "stream",
          "name": "stdout",
          "text": [
            "Loading drug dataset...\n"
          ]
        }
      ]
    },
    {
      "cell_type": "code",
      "source": [
        "args.exp_size = dataset['exp_bin'].shape[1]\n",
        "args.mut_size = dataset['mut_bin'].shape[1]\n",
        "args.cnv_size = dataset['cnv_bin'].shape[1]\n",
        "\n",
        "if args.omic == 'exp':\n",
        "  args.omc_size = args.exp_size\n",
        "elif args.omic == 'mut':\n",
        "  args.omc_size = args.mut_size\n",
        "elif args.omic == 'cnv':\n",
        "  args.omc_size = args.cnv_size\n",
        "\n",
        "args.drg_size = dataset['tgt'].shape[1]\n",
        "args.train_size = len(train_set['tmr'])\n",
        "args.test_size = len(test_set['tmr'])"
      ],
      "metadata": {
        "id": "cm6Dg139Arla"
      },
      "execution_count": 9,
      "outputs": []
    },
    {
      "cell_type": "code",
      "source": [
        "print(\"Hyperparameters:\")\n",
        "print(args)"
      ],
      "metadata": {
        "colab": {
          "base_uri": "https://localhost:8080/"
        },
        "id": "7TG38gxrAvWZ",
        "outputId": "d3b419c7-179d-4725-9919-432f514b5c35"
      },
      "execution_count": 10,
      "outputs": [
        {
          "output_type": "stream",
          "name": "stdout",
          "text": [
            "Hyperparameters:\n",
            "Namespace(is_train=True, input_dir='data/input', output_dir='data/output', repository='gdsc', drug_id=-1, use_cuda=True, use_relu=False, init_gene_emb=True, omic='exp', use_attention=True, use_cntx_attn=True, embedding_dim=200, attention_size=128, attention_head=8, hidden_dim_enc=200, use_hid_lyr=False, max_iter=384000, max_fscore=0.63, dropout_rate=0.6, learning_rate=0.3, weight_decay=0.0003, batch_size=8, test_batch_size=8, test_inc_size=1024, model_label='cntx-attn-gdsc', exp_size=3000, mut_size=1000, cnv_size=1000, omc_size=3000, drg_size=260, train_size=676, test_size=170)\n"
          ]
        }
      ]
    },
    {
      "cell_type": "code",
      "source": [
        "model = CF(args)\n",
        "model.build(ptw_ids)\n",
        "\n",
        "if args.use_cuda:\n",
        "    model = model.cuda()\n",
        "\n",
        "\n",
        "logs = {'args':args, 'iter':[],\n",
        "        'precision':[], 'recall':[],\n",
        "        'f1score':[], 'accuracy':[], 'auc':[],\n",
        "        'precision_train':[], 'recall_train':[],\n",
        "        'f1score_train':[], 'accuracy_train':[], 'auc_train':[],\n",
        "        'loss':[], 'ptw_ids':ptw_ids}\n",
        "\n",
        "if args.is_train:\n",
        "    print(\"Training...\")\n",
        "    logs = model.train(train_set, test_set,\n",
        "        batch_size=args.batch_size,\n",
        "        test_batch_size=args.test_batch_size,\n",
        "        max_iter=args.max_iter,\n",
        "        max_fscore=args.max_fscore,\n",
        "        test_inc_size=args.test_inc_size,\n",
        "        logs=logs\n",
        "    )\n",
        "\n",
        "    labels, msks, preds, tmr, amtr = model.test(test_set, test_batch_size=args.test_batch_size)\n",
        "    labels_train, msks_train, preds_train, tmr_train, amtr_train = model.test_train(train_set, test_batch_size=args.test_batch_size)\n",
        "\n",
        "    logs[\"preds\"] = preds\n",
        "    logs[\"msks\"] = msks\n",
        "    logs[\"labels\"] = labels\n",
        "    logs['tmr'] = tmr\n",
        "    logs['amtr'] = amtr\n",
        "\n",
        "    logs['preds_train'] = preds_train\n",
        "    logs['msks_train'] = msks_train\n",
        "    logs['labels_train'] = labels_train\n",
        "    logs['tmr_train'] = tmr_train\n",
        "    logs['amtr_train'] = amtr_train\n",
        "\n",
        "else:\n",
        "    print(\"LR finding...\")\n",
        "    logs = model.find_lr(train_set, test_set,\n",
        "        batch_size=args.batch_size,\n",
        "        test_batch_size=args.test_batch_size,\n",
        "        max_iter=args.max_iter,\n",
        "        max_fscore=args.max_fscore,\n",
        "        test_inc_size=args.test_inc_size,\n",
        "        logs=logs\n",
        "    )\n",
        "\n",
        "for trial in range(0, 100):\n",
        "    if os.path.exists(\"data/output/cf-rep/logs\"+str(trial)+\".pkl\"):\n",
        "        continue\n",
        "    print(trial)\n",
        "    with open(\"data/output/cf/logs\"+str(trial)+\".pkl\", \"wb\") as f:\n",
        "        pickle.dump(logs, f, protocol=2)\n",
        "    break"
      ],
      "metadata": {
        "colab": {
          "base_uri": "https://localhost:8080/"
        },
        "id": "mOnjf_TcAwZr",
        "outputId": "ce090406-be16-406b-f390-07e2580ccea6"
      },
      "execution_count": 11,
      "outputs": [
        {
          "output_type": "stream",
          "name": "stdout",
          "text": [
            "Training...\n",
            "[0,0] | tst acc:49.4, f1:42.4, auc:49.2 | trn acc:51.2, f1:40.7, auc:49.8 | loss:6.015\n",
            "[1,348] | tst acc:63.8, f1:53.5, auc:65.3 | trn acc:56.4, f1:42.1, auc:56.8 | loss:4.105\n",
            "[3,20] | tst acc:64.3, f1:52.3, auc:66.0 | trn acc:64.4, f1:48.4, auc:63.1 | loss:0.901\n",
            "[4,368] | tst acc:64.8, f1:50.3, auc:62.4 | trn acc:64.9, f1:48.7, auc:65.2 | loss:0.730\n",
            "[6,40] | tst acc:70.7, f1:58.7, auc:72.9 | trn acc:65.4, f1:48.6, auc:65.5 | loss:0.724\n",
            "[7,388] | tst acc:65.3, f1:52.4, auc:69.0 | trn acc:65.4, f1:48.9, auc:65.6 | loss:0.724\n",
            "[9,60] | tst acc:62.3, f1:50.0, auc:61.8 | trn acc:65.7, f1:49.0, auc:66.0 | loss:0.721\n",
            "[10,408] | tst acc:61.5, f1:48.2, auc:64.6 | trn acc:65.8, f1:48.9, auc:66.1 | loss:0.720\n",
            "[12,80] | tst acc:68.5, f1:56.4, auc:71.6 | trn acc:66.4, f1:49.5, auc:65.3 | loss:0.694\n",
            "[13,428] | tst acc:69.2, f1:57.2, auc:72.5 | trn acc:67.3, f1:50.1, auc:68.9 | loss:0.634\n",
            "[15,100] | tst acc:69.2, f1:56.3, auc:72.5 | trn acc:69.2, f1:52.2, auc:71.1 | loss:0.615\n",
            "[16,448] | tst acc:73.0, f1:61.2, auc:75.0 | trn acc:70.8, f1:53.8, auc:72.8 | loss:0.596\n",
            "[18,120] | tst acc:70.2, f1:53.8, auc:71.9 | trn acc:72.3, f1:55.0, auc:74.4 | loss:0.575\n",
            "[19,468] | tst acc:71.5, f1:57.2, auc:76.6 | trn acc:73.4, f1:56.6, auc:75.5 | loss:0.566\n",
            "[21,140] | tst acc:73.4, f1:59.9, auc:77.9 | trn acc:74.4, f1:57.7, auc:76.6 | loss:0.548\n",
            "[22,488] | tst acc:79.4, f1:69.4, auc:82.1 | trn acc:75.3, f1:58.7, auc:77.5 | loss:0.542\n",
            "0\n"
          ]
        }
      ]
    },
    {
      "cell_type": "code",
      "source": [],
      "metadata": {
        "id": "eFf5-IhVA057"
      },
      "execution_count": null,
      "outputs": []
    }
  ]
}