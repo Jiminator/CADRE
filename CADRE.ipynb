{
 "cells": [
  {
   "cell_type": "code",
   "execution_count": null,
   "metadata": {},
   "outputs": [],
   "source": [
    "# ONLY RUN THIS CELL IF YOU ARE RUNNING IN COLAB\n",
    "# ONLY RUN THIS CELL IF YOU ARE RUNNING IN COLAB\n",
    "import sys\n",
    "import os\n",
    "\n",
    "!git clone https://github.com/Jiminator/CADRE.git\n",
    "!ln -s /content/CADRE/data /content/data\n",
    "!mkdir -p /content/data/output\n",
    "\n",
    "print(os.path.exists(\"data/input/rng.txt\"))\n",
    "print(os.path.exists(\"data/input/exp_emb_gdsc.csv\"))\n",
    "print(os.path.isdir(\"data/output\"))\n",
    "\n",
    "sys.path.append('/content/CADRE')\n",
    "# ONLY RUN THIS CELL IF YOU ARE RUNNING IN COLAB\n",
    "# ONLY RUN THIS CELL IF YOU ARE RUNNING IN COLAB"
   ]
  },
  {
   "cell_type": "markdown",
   "metadata": {},
   "source": [
    "# Import Libraries and Fix Seeds"
   ]
  },
  {
   "cell_type": "code",
   "execution_count": null,
   "metadata": {
    "id": "i9wNvIcr0pt9",
    "tags": []
   },
   "outputs": [],
   "source": [
    "import random\n",
    "import numpy as np\n",
    "SEED = 5497\n",
    "random.seed(SEED)\n",
    "np.random.seed(SEED)\n",
    "import torch\n",
    "torch.manual_seed(SEED)\n",
    "if torch.cuda.is_available():\n",
    "    torch.cuda.manual_seed(SEED)\n",
    "    torch.cuda.manual_seed_all(SEED)\n",
    "    torch.backends.cudnn.deterministic = True\n",
    "    torch.backends.cudnn.benchmark = False\n",
    "import torch.nn as nn\n",
    "import torch.nn.functional as F\n",
    "import math\n",
    "import matplotlib.pyplot as plt\n",
    "import argparse\n",
    "import os\n",
    "import pickle\n",
    "from utils import fill_mask, bool_ext, load_dataset, split_dataset\n",
    "from collabfilter import CF"
   ]
  },
  {
   "cell_type": "markdown",
   "metadata": {},
   "source": [
    "# Define Train and Eval Functions"
   ]
  },
  {
   "cell_type": "code",
   "execution_count": null,
   "metadata": {
    "colab": {
     "base_uri": "https://localhost:8080/"
    },
    "id": "bhjsUCSn0rcK",
    "outputId": "1bd91444-bfa8-4d6c-dbbd-c9d0be729aee",
    "tags": []
   },
   "outputs": [
    {
     "name": "stdout",
     "output_type": "stream",
     "text": [
      "Namespace(is_train=True, input_dir='data/input', output_dir='data/output', repository='gdsc', drug_id=-1, use_cuda=True, use_relu=False, init_gene_emb=True, omic='exp', use_attention=True, use_cntx_attn=True, embedding_dim=200, attention_size=128, attention_head=8, hidden_dim_enc=200, use_hid_lyr=False, max_iter=384000, max_fscore=0.6, dropout_rate=0.6, learning_rate=0.3, weight_decay=0.0003, batch_size=8, test_batch_size=8, test_inc_size=1024, model_label='cntx-attn-gdsc')\n"
     ]
    }
   ],
   "source": [
    "# If bool_ext is a custom function, define it or replace it with bool\n",
    "def bool_ext(val):\n",
    "    return val.lower() in (\"yes\", \"true\", \"t\", \"1\")\n",
    "\n",
    "def train(args, pkl_path):\n",
    "    args.is_train = True\n",
    "    args.pkl_path = pkl_path\n",
    "    model = CF(args)\n",
    "    model.build(ptw_ids)\n",
    "\n",
    "    if args.use_cuda:\n",
    "        model = model.cuda()\n",
    "\n",
    "\n",
    "    logs = {'args':args, 'iter':[],\n",
    "            'precision':[], 'recall':[],\n",
    "            'f1score':[], 'accuracy':[], 'auc':[],\n",
    "            'precision_train':[], 'recall_train':[],\n",
    "            'f1score_train':[], 'accuracy_train':[], 'auc_train':[],\n",
    "            'loss':[], 'ptw_ids':ptw_ids}\n",
    "\n",
    "    print(\"Training...\")\n",
    "    logs = model.train(train_set, test_set,\n",
    "        batch_size=args.batch_size,\n",
    "        test_batch_size=args.test_batch_size,\n",
    "        max_iter=args.max_iter,\n",
    "        max_fscore=args.max_fscore,\n",
    "        test_inc_size=args.test_inc_size,\n",
    "        logs=logs\n",
    "    )\n",
    "\n",
    "    labels, msks, preds, tmr, amtr = model.test(test_set, test_batch_size=args.test_batch_size)\n",
    "    labels_train, msks_train, preds_train, tmr_train, amtr_train = model.test_train(train_set, test_batch_size=args.test_batch_size)\n",
    "\n",
    "    logs[\"preds\"] = preds\n",
    "    logs[\"msks\"] = msks\n",
    "    logs[\"labels\"] = labels\n",
    "    logs['tmr'] = tmr\n",
    "    logs['amtr'] = amtr\n",
    "\n",
    "    logs['preds_train'] = preds_train\n",
    "    logs['msks_train'] = msks_train\n",
    "    logs['labels_train'] = labels_train\n",
    "    logs['tmr_train'] = tmr_train\n",
    "    logs['amtr_train'] = amtr_train\n",
    "\n",
    "\n",
    "    if args.store_model:\n",
    "        if not args.pkl_path:\n",
    "            for trial in range(100):\n",
    "                trial_path = os.path.join(args.output_dir, f\"logs{trial}.pkl\")\n",
    "                if not os.path.exists(trial_path):\n",
    "                    print(f\"Auto-saving model to {trial_path}\")\n",
    "                    with open(trial_path, \"wb\") as f:\n",
    "                        pickle.dump(logs, f, protocol=2)\n",
    "                    break\n",
    "        else:\n",
    "            save_path = os.path.join(args.output_dir, args.pkl_path)\n",
    "            if os.path.exists(save_path):\n",
    "                print(f\"Warning: Overwriting existing file {save_path}\")\n",
    "            else:\n",
    "                print(f\"Saving model to {save_path}\")\n",
    "            with open(save_path, \"wb\") as f:\n",
    "                pickle.dump(logs, f, protocol=2)\n",
    "\n",
    "def eval(args, pkl_path):\n",
    "    args.pkl_path = pkl_path\n",
    "    logs = {'args':args, 'iter':[],\n",
    "        'precision':[], 'recall':[],\n",
    "        'f1score':[], 'accuracy':[], 'auc':[],\n",
    "        'precision_train':[], 'recall_train':[],\n",
    "        'f1score_train':[], 'accuracy_train':[], 'auc_train':[],\n",
    "            'loss':[], 'ptw_ids':ptw_ids}\n",
    "\n",
    "    print(f\"Evaluating from saved logs at: {args.pkl_path}\")\n",
    "    with open(args.output_dir + args.pkl_path, \"rb\") as f:\n",
    "        logs = pickle.load(f)\n",
    "    from utils import evaluate_all\n",
    "\n",
    "    preds = logs[\"preds\"]\n",
    "    labels = logs[\"labels\"]\n",
    "    msks = logs[\"msks\"]\n",
    "    precision, recall, f1, acc, auc_roc, auc_pr = evaluate_all(labels, msks, preds)\n",
    "\n",
    "    print(f\"\\nEvaluation Metrics from {args.pkl_path}:\")\n",
    "    print(f\"Accuracy: {acc:.4f}\")\n",
    "    print(f\"F1 Score: {f1:.4f}\")\n",
    "    print(f\"Precision: {precision:.4f}\")\n",
    "    print(f\"Recall: {recall:.4f}\")\n",
    "    print(f\"AUC-ROC: {auc_roc:.4f}\")\n",
    "    print(f\"AUC-PR: {auc_pr:.4f}\")"
   ]
  },
  {
   "cell_type": "markdown",
   "metadata": {},
   "source": [
    "# Set Default Arguments"
   ]
  },
  {
   "cell_type": "code",
   "execution_count": null,
   "metadata": {},
   "outputs": [],
   "source": [
    "# Manually define the arguments using argparse.Namespace\n",
    "args = argparse.Namespace(\n",
    "    seed=SEED,\n",
    "    is_train=True,\n",
    "    eval=False,\n",
    "    pkl_path=None,\n",
    "    store_model=True,\n",
    "    input_dir=\"data/input\",\n",
    "    output_dir=\"data/output/cf/\",\n",
    "    repository=\"gdsc\",\n",
    "    drug_id=-1,\n",
    "    use_cuda=True and torch.cuda.is_available(),  # Ensure GPU availability\n",
    "    use_relu=True,\n",
    "    init_gene_emb=True,\n",
    "    scheduler='onecycle',\n",
    "    shuffle=False,\n",
    "    omic=\"exp\",\n",
    "    use_attention=True,\n",
    "    use_cntx_attn=True,\n",
    "    embedding_dim=200,\n",
    "    attention_size=128,\n",
    "    attention_head=8,\n",
    "    hidden_dim_enc=200,\n",
    "    use_hid_lyr=True,\n",
    "    max_iter=int(48000),\n",
    "    max_fscore=-1,\n",
    "    dropout_rate=0.6,\n",
    "    learning_rate=0.3,\n",
    "    weight_decay=3e-4,\n",
    "    batch_size=8,\n",
    "    test_batch_size=8,\n",
    "    test_inc_size=1024,\n",
    "    model_label=\"cntx-attn-gdsc\",\n",
    "    focal=False,\n",
    "    alpha=0.6,\n",
    "    gamma=2.0,\n",
    "    adam=False,\n",
    "    mlp=False,\n",
    "    norm_strategy='None',\n",
    "    use_residual=False\n",
    ")\n",
    "\n",
    "\n",
    "# Now, args is ready to use just like it would be from argparse.parse_args()\n",
    "print(args)"
   ]
  },
  {
   "cell_type": "markdown",
   "metadata": {},
   "source": [
    "# Preprocess Dataset"
   ]
  },
  {
   "cell_type": "code",
   "execution_count": null,
   "metadata": {
    "colab": {
     "base_uri": "https://localhost:8080/"
    },
    "id": "EKa0B351AoO2",
    "outputId": "f4d7d2c6-cec2-4abf-df7a-ebef27f9c014",
    "tags": []
   },
   "outputs": [
    {
     "name": "stdout",
     "output_type": "stream",
     "text": [
      "Loading drug dataset...\n"
     ]
    }
   ],
   "source": [
    "print(\"Loading drug dataset...\")\n",
    "dataset, ptw_ids = load_dataset(input_dir=args.input_dir, repository=args.repository, drug_id=args.drug_id)\n",
    "train_set, test_set = split_dataset(dataset, ratio=0.8)\n",
    "\n",
    "# replace tgt in train_set\n",
    "train_set['tgt'], train_set['msk'] = fill_mask(train_set['tgt'], train_set['msk'])\n",
    "\n",
    "args.exp_size = dataset['exp_bin'].shape[1]\n",
    "args.mut_size = dataset['mut_bin'].shape[1]\n",
    "args.cnv_size = dataset['cnv_bin'].shape[1]\n",
    "\n",
    "if args.omic == 'exp':\n",
    "  args.omc_size = args.exp_size\n",
    "elif args.omic == 'mut':\n",
    "  args.omc_size = args.mut_size\n",
    "elif args.omic == 'cnv':\n",
    "  args.omc_size = args.cnv_size\n",
    "\n",
    "args.drg_size = dataset['tgt'].shape[1]\n",
    "args.train_size = len(train_set['tmr'])\n",
    "args.test_size = len(test_set['tmr'])\n",
    "\n",
    "print(\"Hyperparameters:\")\n",
    "print(args)"
   ]
  },
  {
   "cell_type": "markdown",
   "metadata": {},
   "source": [
    "# Train and Evaluate Original CADRE Model"
   ]
  },
  {
   "cell_type": "code",
   "execution_count": null,
   "metadata": {
    "id": "cm6Dg139Arla",
    "tags": []
   },
   "outputs": [],
   "source": [
    "train(args, \"default.pkl\")"
   ]
  },
  {
   "cell_type": "code",
   "execution_count": null,
   "metadata": {},
   "outputs": [],
   "source": [
    "eval(args, \"default.pkl\")"
   ]
  },
  {
   "cell_type": "markdown",
   "metadata": {},
   "source": [
    "# Train and Evaluate Improved CADRE Model"
   ]
  },
  {
   "cell_type": "code",
   "execution_count": null,
   "metadata": {
    "colab": {
     "base_uri": "https://localhost:8080/"
    },
    "id": "7TG38gxrAvWZ",
    "outputId": "d3b419c7-179d-4725-9919-432f514b5c35",
    "tags": []
   },
   "outputs": [
    {
     "name": "stdout",
     "output_type": "stream",
     "text": [
      "Hyperparameters:\n",
      "Namespace(is_train=True, input_dir='data/input', output_dir='data/output', repository='gdsc', drug_id=-1, use_cuda=True, use_relu=False, init_gene_emb=True, omic='exp', use_attention=True, use_cntx_attn=True, embedding_dim=200, attention_size=128, attention_head=8, hidden_dim_enc=200, use_hid_lyr=False, max_iter=384000, max_fscore=0.6, dropout_rate=0.6, learning_rate=0.3, weight_decay=0.0003, batch_size=8, test_batch_size=8, test_inc_size=1024, model_label='cntx-attn-gdsc', exp_size=3000, mut_size=1000, cnv_size=1000, omc_size=3000, drg_size=260, train_size=676, test_size=170)\n"
     ]
    }
   ],
   "source": [
    "args.dropout_rate = 0.0\n",
    "args.use_relu = False\n",
    "args.focal = True\n",
    "args.alpha = 0.7\n",
    "args.scheduler = 'cosine'\n",
    "args.use_residual = True\n",
    "print(args)"
   ]
  },
  {
   "cell_type": "code",
   "execution_count": null,
   "metadata": {
    "colab": {
     "base_uri": "https://localhost:8080/"
    },
    "id": "mOnjf_TcAwZr",
    "outputId": "ce090406-be16-406b-f390-07e2580ccea6",
    "tags": []
   },
   "outputs": [
    {
     "name": "stdout",
     "output_type": "stream",
     "text": [
      "Training...\n",
      "[0,0] | tst acc:53.8, f1:34.0, auc:56.0 | trn acc:49.2, f1:39.9, auc:50.3 | loss:6.368\n",
      "[1,348] | tst acc:60.6, f1:34.4, auc:62.4 | trn acc:55.8, f1:42.1, auc:56.5 | loss:4.194\n",
      "[3,20] | tst acc:65.7, f1:41.9, auc:64.4 | trn acc:63.5, f1:47.8, auc:62.5 | loss:0.773\n",
      "[4,368] | tst acc:64.3, f1:41.8, auc:67.7 | trn acc:64.1, f1:48.5, auc:64.3 | loss:0.712\n",
      "[6,40] | tst acc:65.7, f1:40.0, auc:61.2 | trn acc:64.0, f1:48.4, auc:64.1 | loss:0.724\n",
      "[7,388] | tst acc:63.2, f1:38.3, auc:62.3 | trn acc:64.5, f1:48.7, auc:64.7 | loss:0.720\n",
      "[9,60] | tst acc:67.3, f1:43.9, auc:68.0 | trn acc:64.7, f1:49.1, auc:65.1 | loss:0.711\n",
      "[10,408] | tst acc:65.2, f1:42.9, auc:67.0 | trn acc:65.0, f1:49.3, auc:65.3 | loss:0.713\n",
      "[12,80] | tst acc:67.5, f1:47.4, auc:69.4 | trn acc:65.2, f1:49.3, auc:65.4 | loss:0.709\n",
      "[13,428] | tst acc:67.0, f1:43.7, auc:69.7 | trn acc:65.5, f1:49.9, auc:66.2 | loss:0.660\n",
      "[15,100] | tst acc:70.0, f1:49.0, auc:75.8 | trn acc:67.0, f1:50.8, auc:69.1 | loss:0.626\n",
      "[16,448] | tst acc:70.0, f1:43.3, auc:72.3 | trn acc:68.8, f1:53.3, auc:71.3 | loss:0.610\n",
      "[18,120] | tst acc:71.9, f1:47.7, auc:72.1 | trn acc:70.6, f1:54.4, auc:73.1 | loss:0.589\n",
      "[19,468] | tst acc:75.3, f1:54.2, auc:78.2 | trn acc:72.1, f1:56.1, auc:74.5 | loss:0.575\n",
      "[21,140] | tst acc:74.6, f1:53.6, auc:80.3 | trn acc:73.2, f1:57.3, auc:75.7 | loss:0.560\n",
      "[22,488] | tst acc:77.8, f1:57.3, auc:82.2 | trn acc:74.4, f1:58.7, auc:76.9 | loss:0.546\n",
      "[24,160] | tst acc:79.2, f1:59.2, auc:84.5 | trn acc:75.5, f1:59.8, auc:78.1 | loss:0.530\n",
      "[25,508] | tst acc:77.3, f1:56.4, auc:78.7 | trn acc:76.0, f1:60.4, auc:78.6 | loss:0.526\n",
      "[27,180] | tst acc:76.7, f1:55.3, auc:81.9 | trn acc:76.8, f1:61.4, auc:79.1 | loss:0.520\n",
      "[28,528] | tst acc:78.3, f1:58.9, auc:85.5 | trn acc:77.2, f1:61.7, auc:79.7 | loss:0.510\n",
      "[30,200] | tst acc:79.6, f1:60.1, auc:81.7 | trn acc:77.8, f1:62.6, auc:80.3 | loss:0.501\n",
      "1\n"
     ]
    }
   ],
   "source": [
    "train(args, \"final.pkl\")"
   ]
  },
  {
   "cell_type": "code",
   "execution_count": null,
   "metadata": {},
   "outputs": [],
   "source": [
    "eval(args, \"final.pkl\")"
   ]
  }
 ],
 "metadata": {
  "accelerator": "GPU",
  "colab": {
   "gpuType": "A100",
   "machine_shape": "hm",
   "provenance": []
  },
  "kernelspec": {
   "display_name": "Python [conda env:miniconda3-cadre]",
   "language": "python",
   "name": "conda-env-miniconda3-cadre-py"
  },
  "language_info": {
   "codemirror_mode": {
    "name": "ipython",
    "version": 3
   },
   "file_extension": ".py",
   "mimetype": "text/x-python",
   "name": "python",
   "nbconvert_exporter": "python",
   "pygments_lexer": "ipython3",
   "version": "3.11.11"
  }
 },
 "nbformat": 4,
 "nbformat_minor": 4
}
